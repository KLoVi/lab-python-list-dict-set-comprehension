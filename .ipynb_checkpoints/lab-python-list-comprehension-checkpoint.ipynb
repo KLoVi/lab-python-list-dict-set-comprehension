{
 "cells": [
  {
   "cell_type": "markdown",
   "id": "25d7736c-ba17-4aff-b6bb-66eba20fbf4e",
   "metadata": {},
   "source": [
    "# Lab | List, Dict and Set Comprehension"
   ]
  },
  {
   "cell_type": "markdown",
   "id": "7dd3cbde-675a-4b81-92c3-f728846dbe06",
   "metadata": {},
   "source": [
    "## Exercise: Managing Customer Orders Optimized with Comprehension"
   ]
  },
  {
   "cell_type": "markdown",
   "id": "5d500160-2fb7-4777-b5e4-09d45ebaf328",
   "metadata": {},
   "source": [
    "In the previous exercise, you developed a program to manage customer orders and inventory. Now, let's take it a step further and incorporate comprehension into your code.\n",
    "\n",
    "Follow the steps below to complete the exercise:\n",
    "\n",
    "1. Review your code from the previous exercise and identify areas where you can apply comprehension to simplify and streamline your code. \n",
    "\n",
    "    - *Hint: Apply it to initialize inventory, updating the inventory and printing the updated inventory.*\n",
    "    \n",
    "    - For example, in initializing the inventory, we could have:\n",
    "    \n",
    "        ```python\n",
    "        def initialize_inventory(products):\n",
    "            inventory = {product: int(input(f\"Enter the quantity of {product}s available: \")) for product in products}\n",
    "            return inventory\n",
    "\n",
    "        ```\n",
    "<br>\n",
    "    \n",
    "    \n",
    "2. Modify the function get_customer_orders so it prompts the user to enter the number of customer orders and gathers the product names using a loop and user input. Use comprehension.\n",
    "\n",
    "3. Add a new function to calculate the total price of the customer order. For each product in customer_orders, prompt the user to enter the price of that product. Use comprehension to calculate the total price. Note: assume that the user can only have 1 unit of each product.\n",
    "\n",
    "4. Modify the update_inventory function to remove the product from the inventory if its quantity becomes zero after fulfilling the customer orders. Use comprehension to filter out the products with a quantity of zero from the inventory.\n",
    "\n",
    "5. Print the total price of the customer order.\n",
    "\n",
    "Your code should produce output similar to the following:\n",
    "\n",
    "```python\n",
    "Enter the quantity of t-shirts available:  5\n",
    "Enter the quantity of mugs available:  4\n",
    "Enter the quantity of hats available:  3\n",
    "Enter the quantity of books available:  2\n",
    "Enter the quantity of keychains available:  1\n",
    "Enter the number of customer orders:  2\n",
    "Enter the name of a product that a customer wants to order:  hat\n",
    "Enter the name of a product that a customer wants to order:  keychain\n",
    "\n",
    "Order Statistics:\n",
    "Total Products Ordered: 2\n",
    "Percentage of Unique Products Ordered: 40.0\n",
    "\n",
    "Updated Inventory:\n",
    "t-shirt: 5\n",
    "mug: 4\n",
    "hat: 2\n",
    "book: 2\n",
    "Enter the price of keychain:  5\n",
    "Enter the price of hat:  10\n",
    "Total Price: 15.0\n",
    "\n",
    "```\n"
   ]
  },
  {
   "cell_type": "code",
   "execution_count": 64,
   "id": "bce05510",
   "metadata": {},
   "outputs": [],
   "source": [
    "inventory = dict()\n",
    "products = [\"t-shirt\", \"mug\", \"hat\", \"book\", \"keychain\"]"
   ]
  },
  {
   "cell_type": "code",
   "execution_count": 65,
   "id": "243f0d2f",
   "metadata": {},
   "outputs": [],
   "source": [
    "def initialize_inventory(products):\n",
    "    inventory = {product: int(input(f\"Enter the quantity of {product}s available: \")) for product in products}\n",
    "    return inventory"
   ]
  },
  {
   "cell_type": "code",
   "execution_count": 66,
   "id": "6e1fd9cd",
   "metadata": {
    "scrolled": true
   },
   "outputs": [
    {
     "name": "stdout",
     "output_type": "stream",
     "text": [
      "Enter the quantity of t-shirts available: 2\n",
      "Enter the quantity of mugs available: 1\n",
      "Enter the quantity of hats available: 1\n",
      "Enter the quantity of books available: 2\n",
      "Enter the quantity of keychains available: 2\n"
     ]
    }
   ],
   "source": [
    "inventory = initialize_inventory(products)"
   ]
  },
  {
   "cell_type": "code",
   "execution_count": 67,
   "id": "35b2342b",
   "metadata": {},
   "outputs": [
    {
     "data": {
      "text/plain": [
       "{'t-shirt': 2, 'mug': 1, 'hat': 1, 'book': 2, 'keychain': 2}"
      ]
     },
     "execution_count": 67,
     "metadata": {},
     "output_type": "execute_result"
    }
   ],
   "source": [
    "inventory"
   ]
  },
  {
   "cell_type": "markdown",
   "id": "cf7f4035",
   "metadata": {},
   "source": [
    "def update_inventory(customer_orders, inventory):\n",
    "    updated_inventory = {product : inventory[product] -1 for product, inventory[product] in inventory.items() if product in customer_orders}\n",
    "    return updated_inventory"
   ]
  },
  {
   "cell_type": "markdown",
   "id": "11747a68",
   "metadata": {},
   "source": [
    "update_inventory(customer_orders, inventory)"
   ]
  },
  {
   "cell_type": "code",
   "execution_count": 68,
   "id": "afa22c97",
   "metadata": {},
   "outputs": [],
   "source": [
    "def get_customer_orders():\n",
    "    \n",
    "    num_questions = int(input(\"How many product do you want to order?:\"))\n",
    "\n",
    "    customer_orders = {input(\"Enter the name of a product that a customer wants to order: \") for question in range(num_questions)}\n",
    "    \n",
    "    return customer_orders\n"
   ]
  },
  {
   "cell_type": "code",
   "execution_count": 69,
   "id": "0a315de4",
   "metadata": {
    "scrolled": false
   },
   "outputs": [
    {
     "name": "stdout",
     "output_type": "stream",
     "text": [
      "How many product do you want to order?:2\n",
      "Enter the name of a product that a customer wants to order: mug\n",
      "Enter the name of a product that a customer wants to order: hat\n"
     ]
    }
   ],
   "source": [
    "customer_orders = get_customer_orders()"
   ]
  },
  {
   "cell_type": "code",
   "execution_count": 70,
   "id": "3578f959",
   "metadata": {},
   "outputs": [
    {
     "name": "stdout",
     "output_type": "stream",
     "text": [
      "{'mug', 'hat'}\n",
      "<class 'set'>\n"
     ]
    }
   ],
   "source": [
    "print(customer_orders)\n",
    "print(type(customer_orders))"
   ]
  },
  {
   "cell_type": "markdown",
   "id": "42e50d65",
   "metadata": {},
   "source": [
    "Modify the update_inventory function to remove the product from the inventory if its quantity becomes zero after fulfilling the customer orders. Use comprehension to filter out the products with a quantity of zero from the inventory."
   ]
  },
  {
   "cell_type": "code",
   "execution_count": 71,
   "id": "a4e433d3",
   "metadata": {},
   "outputs": [],
   "source": [
    "def update_inventory(customer_orders, inventory):\n",
    "    updated_inventory = {product : inventory[product] -1 if product in customer_orders and inventory[product] >0 else inventory[product] for product, inventory[product] in inventory.items()}\n",
    "    inventory_final = {product: inventory[product] for product, inventory[product] in updated_inventory.items() if inventory[product] > 0}\n",
    "    return inventory_final"
   ]
  },
  {
   "cell_type": "markdown",
   "id": "474a4a17",
   "metadata": {},
   "source": [
    "def update_inventory(customer_orders, inventory):\n",
    "    updated_inventory = {product : inventory[product] -1 if product in customer_orders else inventory[product] for product, inventory[product] in inventory.items()}\n",
    "    return updated_inventory"
   ]
  },
  {
   "cell_type": "code",
   "execution_count": 72,
   "id": "92c37eec",
   "metadata": {
    "scrolled": true
   },
   "outputs": [
    {
     "data": {
      "text/plain": [
       "{'t-shirt': 2, 'book': 2, 'keychain': 2}"
      ]
     },
     "execution_count": 72,
     "metadata": {},
     "output_type": "execute_result"
    }
   ],
   "source": [
    "update_inventory(customer_orders, inventory)"
   ]
  },
  {
   "cell_type": "markdown",
   "id": "a79f162c",
   "metadata": {},
   "source": [
    "Modify the function get_customer_orders so it prompts the user to enter the number of customer orders and gathers the product names using a loop and user input. Use comprehension."
   ]
  },
  {
   "cell_type": "markdown",
   "id": "63d521d4",
   "metadata": {},
   "source": [
    "Add a new function to calculate the total price of the customer order. For each product in customer_orders, prompt the user to enter the price of that product. Use comprehension to calculate the total price. Note: assume that the user can only have 1 unit of each product."
   ]
  },
  {
   "cell_type": "code",
   "execution_count": 73,
   "id": "dfcbf181",
   "metadata": {},
   "outputs": [],
   "source": [
    "def total_price (customer_orders):\n",
    "    \n",
    "    price_unit = [float(input(f\"How much the product '{product}' cost?: \")) for product in customer_orders]\n",
    "    total_price = sum(price_unit)\n",
    "    return (total_price)"
   ]
  },
  {
   "cell_type": "code",
   "execution_count": 74,
   "id": "f438933b",
   "metadata": {},
   "outputs": [
    {
     "name": "stdout",
     "output_type": "stream",
     "text": [
      "How much the product 'mug' cost?: 5\n",
      "How much the product 'hat' cost?: 5\n"
     ]
    }
   ],
   "source": [
    "Total_Price = total_price(customer_orders)"
   ]
  },
  {
   "cell_type": "code",
   "execution_count": 75,
   "id": "077df119",
   "metadata": {},
   "outputs": [
    {
     "name": "stdout",
     "output_type": "stream",
     "text": [
      "10.0\n"
     ]
    }
   ],
   "source": [
    "print(Total_Price)"
   ]
  },
  {
   "cell_type": "code",
   "execution_count": 63,
   "id": "fc47f78a",
   "metadata": {},
   "outputs": [
    {
     "data": {
      "text/plain": [
       "{'t-shirt': 2, 'mug': 1, 'hat': 1, 'book': 2, 'keychain': 2}"
      ]
     },
     "execution_count": 63,
     "metadata": {},
     "output_type": "execute_result"
    }
   ],
   "source": [
    "update_inventory(customer_orders, inventory)"
   ]
  }
 ],
 "metadata": {
  "kernelspec": {
   "display_name": "Python 3 (ipykernel)",
   "language": "python",
   "name": "python3"
  },
  "language_info": {
   "codemirror_mode": {
    "name": "ipython",
    "version": 3
   },
   "file_extension": ".py",
   "mimetype": "text/x-python",
   "name": "python",
   "nbconvert_exporter": "python",
   "pygments_lexer": "ipython3",
   "version": "3.11.7"
  }
 },
 "nbformat": 4,
 "nbformat_minor": 5
}
